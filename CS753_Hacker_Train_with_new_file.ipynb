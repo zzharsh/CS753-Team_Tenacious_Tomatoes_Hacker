{
  "nbformat": 4,
  "nbformat_minor": 0,
  "metadata": {
    "colab": {
      "name": "CS753_Hacker_Train_with_new_file.ipynb",
      "provenance": [],
      "collapsed_sections": [],
      "toc_visible": true
    },
    "kernelspec": {
      "name": "python3",
      "display_name": "Python 3"
    },
    "language_info": {
      "name": "python"
    },
    "accelerator": "GPU"
  },
  "cells": [
    {
      "cell_type": "code",
      "execution_count": 1,
      "metadata": {
        "colab": {
          "base_uri": "https://localhost:8080/"
        },
        "id": "Ez7JeTM7FDvG",
        "outputId": "48c2edd0-be79-4f21-caf8-9fa762d0977e"
      },
      "outputs": [
        {
          "output_type": "stream",
          "name": "stdout",
          "text": [
            "Cloning into 'svoice'...\n",
            "remote: Enumerating objects: 156, done.\u001b[K\n",
            "remote: Total 156 (delta 0), reused 0 (delta 0), pack-reused 156\u001b[K\n",
            "Receiving objects: 100% (156/156), 2.69 MiB | 22.98 MiB/s, done.\n",
            "Resolving deltas: 100% (51/51), done.\n"
          ]
        }
      ],
      "source": [
        "!git clone https://github.com/facebookresearch/svoice.git"
      ]
    },
    {
      "cell_type": "code",
      "source": [
        "%cd svoice"
      ],
      "metadata": {
        "colab": {
          "base_uri": "https://localhost:8080/"
        },
        "id": "M5I2tL7fFlbh",
        "outputId": "60ea73d7-5d7f-4e90-bc2e-71e41f759972"
      },
      "execution_count": 2,
      "outputs": [
        {
          "output_type": "stream",
          "name": "stdout",
          "text": [
            "/content/svoice\n"
          ]
        }
      ]
    },
    {
      "cell_type": "code",
      "source": [
        "!pip install torch==1.6.0+cu101 torchvision==0.7.0+cu101 -f https://download.pytorch.org/whl/torch_stable.html"
      ],
      "metadata": {
        "colab": {
          "base_uri": "https://localhost:8080/"
        },
        "id": "rmu3IkMNFpdj",
        "outputId": "2e4ab8bf-668e-46c9-f453-d3e2f29f227d"
      },
      "execution_count": 3,
      "outputs": [
        {
          "output_type": "stream",
          "name": "stdout",
          "text": [
            "Looking in links: https://download.pytorch.org/whl/torch_stable.html\n",
            "Collecting torch==1.6.0+cu101\n",
            "  Downloading https://download.pytorch.org/whl/cu101/torch-1.6.0%2Bcu101-cp37-cp37m-linux_x86_64.whl (708.0 MB)\n",
            "\u001b[K     |████████████████████████████████| 708.0 MB 10 kB/s \n",
            "\u001b[?25hCollecting torchvision==0.7.0+cu101\n",
            "  Downloading https://download.pytorch.org/whl/cu101/torchvision-0.7.0%2Bcu101-cp37-cp37m-linux_x86_64.whl (5.9 MB)\n",
            "\u001b[K     |████████████████████████████████| 5.9 MB 34.9 MB/s \n",
            "\u001b[?25hRequirement already satisfied: future in /usr/local/lib/python3.7/dist-packages (from torch==1.6.0+cu101) (0.16.0)\n",
            "Requirement already satisfied: numpy in /usr/local/lib/python3.7/dist-packages (from torch==1.6.0+cu101) (1.21.6)\n",
            "Requirement already satisfied: pillow>=4.1.1 in /usr/local/lib/python3.7/dist-packages (from torchvision==0.7.0+cu101) (7.1.2)\n",
            "Installing collected packages: torch, torchvision\n",
            "  Attempting uninstall: torch\n",
            "    Found existing installation: torch 1.11.0+cu113\n",
            "    Uninstalling torch-1.11.0+cu113:\n",
            "      Successfully uninstalled torch-1.11.0+cu113\n",
            "  Attempting uninstall: torchvision\n",
            "    Found existing installation: torchvision 0.12.0+cu113\n",
            "    Uninstalling torchvision-0.12.0+cu113:\n",
            "      Successfully uninstalled torchvision-0.12.0+cu113\n",
            "\u001b[31mERROR: pip's dependency resolver does not currently take into account all the packages that are installed. This behaviour is the source of the following dependency conflicts.\n",
            "torchtext 0.12.0 requires torch==1.11.0, but you have torch 1.6.0+cu101 which is incompatible.\n",
            "torchaudio 0.11.0+cu113 requires torch==1.11.0, but you have torch 1.6.0+cu101 which is incompatible.\u001b[0m\n",
            "Successfully installed torch-1.6.0+cu101 torchvision-0.7.0+cu101\n"
          ]
        }
      ]
    },
    {
      "cell_type": "code",
      "source": [
        "!pip install -r requirements.txt  "
      ],
      "metadata": {
        "colab": {
          "base_uri": "https://localhost:8080/",
          "height": 1000
        },
        "id": "wWvcD063FtP2",
        "outputId": "5c0e6e42-231a-41c2-d634-8eecb2086edf"
      },
      "execution_count": 4,
      "outputs": [
        {
          "output_type": "stream",
          "name": "stdout",
          "text": [
            "Collecting pesq==0.0.2\n",
            "  Downloading pesq-0.0.2.tar.gz (34 kB)\n",
            "Collecting numpy==1.19.4\n",
            "  Downloading numpy-1.19.4-cp37-cp37m-manylinux2010_x86_64.whl (14.5 MB)\n",
            "\u001b[K     |████████████████████████████████| 14.5 MB 11.9 MB/s \n",
            "\u001b[?25hCollecting tqdm==4.51.0\n",
            "  Downloading tqdm-4.51.0-py2.py3-none-any.whl (70 kB)\n",
            "\u001b[K     |████████████████████████████████| 70 kB 11.1 MB/s \n",
            "\u001b[?25hCollecting hydra_core==1.0.3\n",
            "  Downloading hydra_core-1.0.3-py3-none-any.whl (122 kB)\n",
            "\u001b[K     |████████████████████████████████| 122 kB 73.0 MB/s \n",
            "\u001b[?25hCollecting hydra_colorlog==1.0.0\n",
            "  Downloading hydra_colorlog-1.0.0-py3-none-any.whl (3.6 kB)\n",
            "Collecting pystoi==0.3.3\n",
            "  Downloading pystoi-0.3.3.tar.gz (7.0 kB)\n",
            "Collecting torchaudio==0.6.0\n",
            "  Downloading torchaudio-0.6.0-cp37-cp37m-manylinux1_x86_64.whl (6.8 MB)\n",
            "\u001b[K     |████████████████████████████████| 6.8 MB 22.9 MB/s \n",
            "\u001b[?25hCollecting librosa==0.7.1\n",
            "  Downloading librosa-0.7.1.tar.gz (1.6 MB)\n",
            "\u001b[K     |████████████████████████████████| 1.6 MB 43.1 MB/s \n",
            "\u001b[?25hCollecting numba==0.48\n",
            "  Downloading numba-0.48.0-1-cp37-cp37m-manylinux2014_x86_64.whl (3.5 MB)\n",
            "\u001b[K     |████████████████████████████████| 3.5 MB 56.1 MB/s \n",
            "\u001b[?25hCollecting antlr4-python3-runtime==4.8\n",
            "  Downloading antlr4-python3-runtime-4.8.tar.gz (112 kB)\n",
            "\u001b[K     |████████████████████████████████| 112 kB 36.0 MB/s \n",
            "\u001b[?25hRequirement already satisfied: importlib-resources in /usr/local/lib/python3.7/dist-packages (from hydra_core==1.0.3->-r requirements.txt (line 4)) (5.7.1)\n",
            "Collecting omegaconf>=2.0.2\n",
            "  Downloading omegaconf-2.1.2-py3-none-any.whl (74 kB)\n",
            "\u001b[K     |████████████████████████████████| 74 kB 4.5 MB/s \n",
            "\u001b[?25hCollecting colorlog\n",
            "  Downloading colorlog-6.6.0-py2.py3-none-any.whl (11 kB)\n",
            "Requirement already satisfied: scipy in /usr/local/lib/python3.7/dist-packages (from pystoi==0.3.3->-r requirements.txt (line 6)) (1.4.1)\n",
            "Requirement already satisfied: torch==1.6.0 in /usr/local/lib/python3.7/dist-packages (from torchaudio==0.6.0->-r requirements.txt (line 7)) (1.6.0+cu101)\n",
            "Requirement already satisfied: audioread>=2.0.0 in /usr/local/lib/python3.7/dist-packages (from librosa==0.7.1->-r requirements.txt (line 8)) (2.1.9)\n",
            "Requirement already satisfied: scikit-learn!=0.19.0,>=0.14.0 in /usr/local/lib/python3.7/dist-packages (from librosa==0.7.1->-r requirements.txt (line 8)) (1.0.2)\n",
            "Requirement already satisfied: joblib>=0.12 in /usr/local/lib/python3.7/dist-packages (from librosa==0.7.1->-r requirements.txt (line 8)) (1.1.0)\n",
            "Requirement already satisfied: decorator>=3.0.0 in /usr/local/lib/python3.7/dist-packages (from librosa==0.7.1->-r requirements.txt (line 8)) (4.4.2)\n",
            "Requirement already satisfied: six>=1.3 in /usr/local/lib/python3.7/dist-packages (from librosa==0.7.1->-r requirements.txt (line 8)) (1.15.0)\n",
            "Requirement already satisfied: resampy>=0.2.2 in /usr/local/lib/python3.7/dist-packages (from librosa==0.7.1->-r requirements.txt (line 8)) (0.2.2)\n",
            "Requirement already satisfied: soundfile>=0.9.0 in /usr/local/lib/python3.7/dist-packages (from librosa==0.7.1->-r requirements.txt (line 8)) (0.10.3.post1)\n",
            "Collecting llvmlite<0.32.0,>=0.31.0dev0\n",
            "  Downloading llvmlite-0.31.0-cp37-cp37m-manylinux1_x86_64.whl (20.2 MB)\n",
            "\u001b[K     |████████████████████████████████| 20.2 MB 93.1 MB/s \n",
            "\u001b[?25hRequirement already satisfied: setuptools in /usr/local/lib/python3.7/dist-packages (from numba==0.48->-r requirements.txt (line 9)) (57.4.0)\n",
            "Requirement already satisfied: future in /usr/local/lib/python3.7/dist-packages (from torch==1.6.0->torchaudio==0.6.0->-r requirements.txt (line 7)) (0.16.0)\n",
            "Collecting PyYAML>=5.1.0\n",
            "  Downloading PyYAML-6.0-cp37-cp37m-manylinux_2_5_x86_64.manylinux1_x86_64.manylinux_2_12_x86_64.manylinux2010_x86_64.whl (596 kB)\n",
            "\u001b[K     |████████████████████████████████| 596 kB 70.2 MB/s \n",
            "\u001b[?25hRequirement already satisfied: threadpoolctl>=2.0.0 in /usr/local/lib/python3.7/dist-packages (from scikit-learn!=0.19.0,>=0.14.0->librosa==0.7.1->-r requirements.txt (line 8)) (3.1.0)\n",
            "Requirement already satisfied: cffi>=1.0 in /usr/local/lib/python3.7/dist-packages (from soundfile>=0.9.0->librosa==0.7.1->-r requirements.txt (line 8)) (1.15.0)\n",
            "Requirement already satisfied: pycparser in /usr/local/lib/python3.7/dist-packages (from cffi>=1.0->soundfile>=0.9.0->librosa==0.7.1->-r requirements.txt (line 8)) (2.21)\n",
            "Requirement already satisfied: zipp>=3.1.0 in /usr/local/lib/python3.7/dist-packages (from importlib-resources->hydra_core==1.0.3->-r requirements.txt (line 4)) (3.8.0)\n",
            "Building wheels for collected packages: pesq, pystoi, librosa, antlr4-python3-runtime\n",
            "  Building wheel for pesq (setup.py) ... \u001b[?25l\u001b[?25hdone\n",
            "  Created wheel for pesq: filename=pesq-0.0.2-cp37-cp37m-linux_x86_64.whl size=161295 sha256=3843a6cd89f5942a16c6bc5f5817e6a1285e1d41e4c7e71d5d42436a3958b51d\n",
            "  Stored in directory: /root/.cache/pip/wheels/c3/34/04/86b0c6c0d3bf5d547542ce1171dfe9e801d65a81c2eb02fe8c\n",
            "  Building wheel for pystoi (setup.py) ... \u001b[?25l\u001b[?25hdone\n",
            "  Created wheel for pystoi: filename=pystoi-0.3.3-py2.py3-none-any.whl size=7793 sha256=58cb2052345a448a6bfa896320617d0c8bfe95f763b1d48523bb67c2940c2f0b\n",
            "  Stored in directory: /root/.cache/pip/wheels/46/4a/ad/3ab460193ed0535430b4b1575f255aa6bae69df17453628e86\n",
            "  Building wheel for librosa (setup.py) ... \u001b[?25l\u001b[?25hdone\n",
            "  Created wheel for librosa: filename=librosa-0.7.1-py3-none-any.whl size=1610170 sha256=b9f2f9e1d2909073952b130ac67231e87298b8ed9d9aa726e1861178713b550c\n",
            "  Stored in directory: /root/.cache/pip/wheels/2f/77/a6/bb2a44a37b740767295b9cbb3c3a4efd1c7ef20061c2e6bbf1\n",
            "  Building wheel for antlr4-python3-runtime (setup.py) ... \u001b[?25l\u001b[?25hdone\n",
            "  Created wheel for antlr4-python3-runtime: filename=antlr4_python3_runtime-4.8-py3-none-any.whl size=141230 sha256=e45acc932c427c8380ce6559280194491d32792ac3676dc87ee76efbc1501641\n",
            "  Stored in directory: /root/.cache/pip/wheels/ca/33/b7/336836125fc9bb4ceaa4376d8abca10ca8bc84ddc824baea6c\n",
            "Successfully built pesq pystoi librosa antlr4-python3-runtime\n",
            "Installing collected packages: PyYAML, numpy, llvmlite, antlr4-python3-runtime, omegaconf, numba, hydra-core, colorlog, tqdm, torchaudio, pystoi, pesq, librosa, hydra-colorlog\n",
            "  Attempting uninstall: PyYAML\n",
            "    Found existing installation: PyYAML 3.13\n",
            "    Uninstalling PyYAML-3.13:\n",
            "      Successfully uninstalled PyYAML-3.13\n",
            "  Attempting uninstall: numpy\n",
            "    Found existing installation: numpy 1.21.6\n",
            "    Uninstalling numpy-1.21.6:\n",
            "      Successfully uninstalled numpy-1.21.6\n",
            "  Attempting uninstall: llvmlite\n",
            "    Found existing installation: llvmlite 0.34.0\n",
            "    Uninstalling llvmlite-0.34.0:\n",
            "      Successfully uninstalled llvmlite-0.34.0\n",
            "  Attempting uninstall: numba\n",
            "    Found existing installation: numba 0.51.2\n",
            "    Uninstalling numba-0.51.2:\n",
            "      Successfully uninstalled numba-0.51.2\n",
            "  Attempting uninstall: tqdm\n",
            "    Found existing installation: tqdm 4.64.0\n",
            "    Uninstalling tqdm-4.64.0:\n",
            "      Successfully uninstalled tqdm-4.64.0\n",
            "  Attempting uninstall: torchaudio\n",
            "    Found existing installation: torchaudio 0.11.0+cu113\n",
            "    Uninstalling torchaudio-0.11.0+cu113:\n",
            "      Successfully uninstalled torchaudio-0.11.0+cu113\n",
            "  Attempting uninstall: librosa\n",
            "    Found existing installation: librosa 0.8.1\n",
            "    Uninstalling librosa-0.8.1:\n",
            "      Successfully uninstalled librosa-0.8.1\n",
            "\u001b[31mERROR: pip's dependency resolver does not currently take into account all the packages that are installed. This behaviour is the source of the following dependency conflicts.\n",
            "tensorflow 2.8.0 requires tf-estimator-nightly==2.8.0.dev2021122109, which is not installed.\n",
            "torchtext 0.12.0 requires torch==1.11.0, but you have torch 1.6.0+cu101 which is incompatible.\n",
            "tensorflow 2.8.0 requires numpy>=1.20, but you have numpy 1.19.4 which is incompatible.\n",
            "kapre 0.3.7 requires librosa>=0.7.2, but you have librosa 0.7.1 which is incompatible.\n",
            "datascience 0.10.6 requires folium==0.2.1, but you have folium 0.8.3 which is incompatible.\n",
            "albumentations 0.1.12 requires imgaug<0.2.7,>=0.2.5, but you have imgaug 0.2.9 which is incompatible.\u001b[0m\n",
            "Successfully installed PyYAML-6.0 antlr4-python3-runtime-4.8 colorlog-6.6.0 hydra-colorlog-1.0.0 hydra-core-1.0.3 librosa-0.7.1 llvmlite-0.31.0 numba-0.48.0 numpy-1.19.4 omegaconf-2.1.2 pesq-0.0.2 pystoi-0.3.3 torchaudio-0.6.0 tqdm-4.51.0\n"
          ]
        },
        {
          "output_type": "display_data",
          "data": {
            "application/vnd.colab-display-data+json": {
              "pip_warning": {
                "packages": [
                  "numpy",
                  "pydevd_plugins"
                ]
              }
            }
          },
          "metadata": {}
        }
      ]
    },
    {
      "cell_type": "code",
      "source": [
        "!pwd"
      ],
      "metadata": {
        "colab": {
          "base_uri": "https://localhost:8080/"
        },
        "id": "CgZZ1GkcFwVM",
        "outputId": "17bd5241-7512-491f-a8f9-98a7d9c88650"
      },
      "execution_count": 5,
      "outputs": [
        {
          "output_type": "stream",
          "name": "stdout",
          "text": [
            "/content/svoice\n"
          ]
        }
      ]
    },
    {
      "cell_type": "code",
      "source": [
        "!./make_debug.sh"
      ],
      "metadata": {
        "colab": {
          "base_uri": "https://localhost:8080/"
        },
        "id": "PUShq-AGGiVA",
        "outputId": "4c65170c-e6ce-4cfc-c808-b9eb26440f3f"
      },
      "execution_count": 6,
      "outputs": [
        {
          "output_type": "stream",
          "name": "stdout",
          "text": [
            "100%|████████████████████████████████████████████| 8/8 [00:00<00:00, 654.80it/s]\n",
            "100%|████████████████████████████████████████████| 8/8 [00:00<00:00, 642.35it/s]\n",
            "100%|████████████████████████████████████████████| 8/8 [00:00<00:00, 673.80it/s]\n"
          ]
        }
      ]
    },
    {
      "cell_type": "code",
      "source": [
        "!pip install --upgrade numpy"
      ],
      "metadata": {
        "colab": {
          "base_uri": "https://localhost:8080/",
          "height": 401
        },
        "id": "CG25tNAQKzzm",
        "outputId": "b570f44c-5b5b-4296-93ab-c47d08aac2b7"
      },
      "execution_count": 7,
      "outputs": [
        {
          "output_type": "stream",
          "name": "stdout",
          "text": [
            "Requirement already satisfied: numpy in /usr/local/lib/python3.7/dist-packages (1.19.4)\n",
            "Collecting numpy\n",
            "  Downloading numpy-1.21.6-cp37-cp37m-manylinux_2_12_x86_64.manylinux2010_x86_64.whl (15.7 MB)\n",
            "\u001b[K     |████████████████████████████████| 15.7 MB 9.9 MB/s \n",
            "\u001b[?25hInstalling collected packages: numpy\n",
            "  Attempting uninstall: numpy\n",
            "    Found existing installation: numpy 1.19.4\n",
            "    Uninstalling numpy-1.19.4:\n",
            "      Successfully uninstalled numpy-1.19.4\n",
            "\u001b[31mERROR: pip's dependency resolver does not currently take into account all the packages that are installed. This behaviour is the source of the following dependency conflicts.\n",
            "tensorflow 2.8.0 requires tf-estimator-nightly==2.8.0.dev2021122109, which is not installed.\n",
            "torchtext 0.12.0 requires torch==1.11.0, but you have torch 1.6.0+cu101 which is incompatible.\n",
            "kapre 0.3.7 requires librosa>=0.7.2, but you have librosa 0.7.1 which is incompatible.\n",
            "datascience 0.10.6 requires folium==0.2.1, but you have folium 0.8.3 which is incompatible.\n",
            "albumentations 0.1.12 requires imgaug<0.2.7,>=0.2.5, but you have imgaug 0.2.9 which is incompatible.\u001b[0m\n",
            "Successfully installed numpy-1.21.6\n"
          ]
        },
        {
          "output_type": "display_data",
          "data": {
            "application/vnd.colab-display-data+json": {
              "pip_warning": {
                "packages": [
                  "numpy"
                ]
              }
            }
          },
          "metadata": {}
        }
      ]
    },
    {
      "cell_type": "code",
      "source": [
        "!tar -cvzf data.tar.gz dataset/debug"
      ],
      "metadata": {
        "colab": {
          "base_uri": "https://localhost:8080/"
        },
        "id": "1ztX37VC0hu-",
        "outputId": "141e6a53-7f8c-4662-f6d0-a9379fb0e7ae"
      },
      "execution_count": 8,
      "outputs": [
        {
          "output_type": "stream",
          "name": "stdout",
          "text": [
            "dataset/debug/\n",
            "dataset/debug/mix/\n",
            "dataset/debug/mix/6313-76958-0012_5536-43363-0016.wav\n",
            "dataset/debug/mix/8842-302201-0004_3081-166546-0049.wav\n",
            "dataset/debug/mix/2803-161169-0001_7976-110523-0004.wav\n",
            "dataset/debug/mix/1919-142785-0045_6319-275224-0016.wav\n",
            "dataset/debug/mix/2803-154328-0017_8297-275155-0016.wav\n",
            "dataset/debug/mix/3752-4943-0021_84-121550-0018.wav\n",
            "dataset/debug/mix/2902-9006-0008_2412-153954-0015.wav\n",
            "dataset/debug/mix/5694-64038-0005_251-137823-0002.wav\n",
            "dataset/debug/s2/\n",
            "dataset/debug/s2/6313-76958-0012_5536-43363-0016.wav\n",
            "dataset/debug/s2/8842-302201-0004_3081-166546-0049.wav\n",
            "dataset/debug/s2/2803-161169-0001_7976-110523-0004.wav\n",
            "dataset/debug/s2/1919-142785-0045_6319-275224-0016.wav\n",
            "dataset/debug/s2/2803-154328-0017_8297-275155-0016.wav\n",
            "dataset/debug/s2/3752-4943-0021_84-121550-0018.wav\n",
            "dataset/debug/s2/2902-9006-0008_2412-153954-0015.wav\n",
            "dataset/debug/s2/5694-64038-0005_251-137823-0002.wav\n",
            "dataset/debug/s1/\n",
            "dataset/debug/s1/6313-76958-0012_5536-43363-0016.wav\n",
            "dataset/debug/s1/8842-302201-0004_3081-166546-0049.wav\n",
            "dataset/debug/s1/2803-161169-0001_7976-110523-0004.wav\n",
            "dataset/debug/s1/1919-142785-0045_6319-275224-0016.wav\n",
            "dataset/debug/s1/2803-154328-0017_8297-275155-0016.wav\n",
            "dataset/debug/s1/3752-4943-0021_84-121550-0018.wav\n",
            "dataset/debug/s1/2902-9006-0008_2412-153954-0015.wav\n",
            "dataset/debug/s1/5694-64038-0005_251-137823-0002.wav\n"
          ]
        }
      ]
    },
    {
      "cell_type": "code",
      "source": [
        "!gdown --folder https://drive.google.com/drive/folders/1hdKdd1SZEK7z0IT2KDo3jCTsbzHVXvIY?usp=sharing"
      ],
      "metadata": {
        "colab": {
          "base_uri": "https://localhost:8080/"
        },
        "id": "AIYhjM8mTSiV",
        "outputId": "6fee4d42-c225-40b9-df8b-26a4b59d873c"
      },
      "execution_count": 9,
      "outputs": [
        {
          "output_type": "stream",
          "name": "stdout",
          "text": [
            "Retrieving folder list\n",
            "Retrieving folder 1i5gUvKaei7LMQPTpe4XV1_Tz7hvFeWqD mix\n",
            "Processing file 1hh5oGlRp4cf--cTOUo5jfXFJCtD5STwy Example_1_mix.wav\n",
            "Retrieving folder 1i5xIr7CTYvpL1cTONgm9tiX4DYorszDz s1\n",
            "Processing file 1htazjdkaniT_2FBR_Xa4GvWgSlajd_X0 Example_1_src0.wav\n",
            "Retrieving folder 1i84-S9x28DSuLORr6965H4Lwxt2fGTM6 s2\n",
            "Processing file 1htgP9bgmeUQQeOllco5ECcvbdjqHIKB4 Example_1_src1.wav\n",
            "Retrieving folder list completed\n",
            "Building directory structure\n",
            "Building directory structure completed\n",
            "Downloading...\n",
            "From: https://drive.google.com/uc?id=1hh5oGlRp4cf--cTOUo5jfXFJCtD5STwy\n",
            "To: /content/svoice/New_data/mix/Example_1_mix.wav\n",
            "100% 266k/266k [00:00<00:00, 104MB/s]\n",
            "Downloading...\n",
            "From: https://drive.google.com/uc?id=1htazjdkaniT_2FBR_Xa4GvWgSlajd_X0\n",
            "To: /content/svoice/New_data/s1/Example_1_src0.wav\n",
            "100% 266k/266k [00:00<00:00, 96.0MB/s]\n",
            "Downloading...\n",
            "From: https://drive.google.com/uc?id=1htgP9bgmeUQQeOllco5ECcvbdjqHIKB4\n",
            "To: /content/svoice/New_data/s2/Example_1_src1.wav\n",
            "100% 266k/266k [00:00<00:00, 151MB/s]\n",
            "Download completed\n"
          ]
        }
      ]
    },
    {
      "cell_type": "code",
      "source": [
        "import shutil\n",
        "\n",
        "shutil.copyfile('New_data/mix/Example_1_mix.wav', 'dataset/debug/mix/Example_1_mix.wav')\n",
        "shutil.copyfile('New_data/s1/Example_1_src0.wav', 'dataset/debug/s1/Example_1_mix.wav')\n",
        "shutil.copyfile('New_data/s2/Example_1_src1.wav', 'dataset/debug/s2/Example_1_mix.wav')\n"
      ],
      "metadata": {
        "colab": {
          "base_uri": "https://localhost:8080/",
          "height": 36
        },
        "id": "FoyrQDaXWtTG",
        "outputId": "e21f1617-27a2-4eb2-d35e-60150d735415"
      },
      "execution_count": 10,
      "outputs": [
        {
          "output_type": "execute_result",
          "data": {
            "text/plain": [
              "'dataset/debug/s2/Example_1_mix.wav'"
            ],
            "application/vnd.google.colaboratory.intrinsic+json": {
              "type": "string"
            }
          },
          "metadata": {},
          "execution_count": 10
        }
      ]
    },
    {
      "cell_type": "code",
      "source": [
        "!python train.py"
      ],
      "metadata": {
        "colab": {
          "base_uri": "https://localhost:8080/"
        },
        "id": "-Goyy9RC95MH",
        "outputId": "b1c5b652-c419-4ed0-810c-782e9e4d1f5f"
      },
      "execution_count": 11,
      "outputs": [
        {
          "output_type": "stream",
          "name": "stdout",
          "text": [
            "/usr/local/lib/python3.7/dist-packages/hydra/core/utils.py:143: UserWarning: register_resolver() is deprecated.\n",
            "See https://github.com/omry/omegaconf/issues/426 for migration instructions.\n",
            "\n",
            "  OmegaConf.register_resolver(name, f)\n",
            "[\u001b[36m2022-05-06 17:59:11,485\u001b[0m][\u001b[34m__main__\u001b[0m][\u001b[32mINFO\u001b[0m] - For logs, checkpoints and samples check /content/svoice/outputs/exp_\u001b[0m\n",
            "[\u001b[36m2022-05-06 17:59:13,319\u001b[0m][\u001b[34m__main__\u001b[0m][\u001b[32mINFO\u001b[0m] - Running on host ae5cf0394182\u001b[0m\n",
            "[\u001b[36m2022-05-06 17:59:16,051\u001b[0m][\u001b[34msvoice.solver\u001b[0m][\u001b[32mINFO\u001b[0m] - ----------------------------------------------------------------------\u001b[0m\n",
            "[\u001b[36m2022-05-06 17:59:16,052\u001b[0m][\u001b[34msvoice.solver\u001b[0m][\u001b[32mINFO\u001b[0m] - Training...\u001b[0m\n",
            "[W TensorIterator.cpp:918] Warning: Mixed memory format inputs detected while calling the operator. The operator will output contiguous tensor even if some of the inputs are in channels_last format. (function operator())\n",
            "[\u001b[36m2022-05-06 17:59:17,709\u001b[0m][\u001b[34msvoice.solver\u001b[0m][\u001b[32mINFO\u001b[0m] - Train | Epoch 1 | 1/8 | 1.4 it/sec | Loss 22.88707\u001b[0m\n",
            "[\u001b[36m2022-05-06 17:59:18,879\u001b[0m][\u001b[34msvoice.solver\u001b[0m][\u001b[32mINFO\u001b[0m] - Train | Epoch 1 | 2/8 | 1.1 it/sec | Loss 19.58770\u001b[0m\n",
            "[\u001b[36m2022-05-06 17:59:20,044\u001b[0m][\u001b[34msvoice.solver\u001b[0m][\u001b[32mINFO\u001b[0m] - Train | Epoch 1 | 3/8 | 1.1 it/sec | Loss 17.31102\u001b[0m\n",
            "[\u001b[36m2022-05-06 17:59:21,203\u001b[0m][\u001b[34msvoice.solver\u001b[0m][\u001b[32mINFO\u001b[0m] - Train | Epoch 1 | 4/8 | 1.0 it/sec | Loss 16.57172\u001b[0m\n",
            "[\u001b[36m2022-05-06 17:59:22,363\u001b[0m][\u001b[34msvoice.solver\u001b[0m][\u001b[32mINFO\u001b[0m] - Train | Epoch 1 | 5/8 | 1.0 it/sec | Loss 15.13837\u001b[0m\n",
            "[\u001b[36m2022-05-06 17:59:23,526\u001b[0m][\u001b[34msvoice.solver\u001b[0m][\u001b[32mINFO\u001b[0m] - Train | Epoch 1 | 6/8 | 1.0 it/sec | Loss 13.89344\u001b[0m\n",
            "[\u001b[36m2022-05-06 17:59:24,680\u001b[0m][\u001b[34msvoice.solver\u001b[0m][\u001b[32mINFO\u001b[0m] - Train | Epoch 1 | 7/8 | 0.9 it/sec | Loss 12.93847\u001b[0m\n",
            "[\u001b[36m2022-05-06 17:59:25,359\u001b[0m][\u001b[34msvoice.solver\u001b[0m][\u001b[32mINFO\u001b[0m] - Train | Epoch 1 | 8/8 | 1.0 it/sec | Loss 11.96888\u001b[0m\n",
            "[\u001b[36m2022-05-06 17:59:25,360\u001b[0m][\u001b[34msvoice.solver\u001b[0m][\u001b[32mINFO\u001b[0m] - \u001b[1mTrain Summary | End of Epoch 1 | Time 9.31s | Train Loss 11.96888\u001b[0m\n",
            "[\u001b[36m2022-05-06 17:59:25,361\u001b[0m][\u001b[34msvoice.solver\u001b[0m][\u001b[32mINFO\u001b[0m] - ----------------------------------------------------------------------\u001b[0m\n",
            "[\u001b[36m2022-05-06 17:59:25,361\u001b[0m][\u001b[34msvoice.solver\u001b[0m][\u001b[32mINFO\u001b[0m] - Cross validation...\u001b[0m\n",
            "[\u001b[36m2022-05-06 17:59:25,927\u001b[0m][\u001b[34msvoice.solver\u001b[0m][\u001b[32mINFO\u001b[0m] - Valid | Epoch 1 | 1/8 | 4.4 it/sec | Loss 10.19289\u001b[0m\n",
            "[\u001b[36m2022-05-06 17:59:26,244\u001b[0m][\u001b[34msvoice.solver\u001b[0m][\u001b[32mINFO\u001b[0m] - Valid | Epoch 1 | 2/8 | 3.9 it/sec | Loss 6.75726\u001b[0m\n",
            "[\u001b[36m2022-05-06 17:59:26,556\u001b[0m][\u001b[34msvoice.solver\u001b[0m][\u001b[32mINFO\u001b[0m] - Valid | Epoch 1 | 3/8 | 3.7 it/sec | Loss 6.28351\u001b[0m\n",
            "[\u001b[36m2022-05-06 17:59:26,853\u001b[0m][\u001b[34msvoice.solver\u001b[0m][\u001b[32mINFO\u001b[0m] - Valid | Epoch 1 | 4/8 | 3.6 it/sec | Loss 6.35043\u001b[0m\n",
            "[\u001b[36m2022-05-06 17:59:27,092\u001b[0m][\u001b[34msvoice.solver\u001b[0m][\u001b[32mINFO\u001b[0m] - Valid | Epoch 1 | 5/8 | 3.7 it/sec | Loss 6.27804\u001b[0m\n",
            "[\u001b[36m2022-05-06 17:59:27,308\u001b[0m][\u001b[34msvoice.solver\u001b[0m][\u001b[32mINFO\u001b[0m] - Valid | Epoch 1 | 6/8 | 3.8 it/sec | Loss 6.04578\u001b[0m\n",
            "[\u001b[36m2022-05-06 17:59:27,496\u001b[0m][\u001b[34msvoice.solver\u001b[0m][\u001b[32mINFO\u001b[0m] - Valid | Epoch 1 | 7/8 | 4.0 it/sec | Loss 6.08954\u001b[0m\n",
            "[\u001b[36m2022-05-06 17:59:27,755\u001b[0m][\u001b[34msvoice.solver\u001b[0m][\u001b[32mINFO\u001b[0m] - Valid | Epoch 1 | 8/8 | 3.9 it/sec | Loss 5.88281\u001b[0m\n",
            "[\u001b[36m2022-05-06 17:59:27,756\u001b[0m][\u001b[34msvoice.solver\u001b[0m][\u001b[32mINFO\u001b[0m] - \u001b[1mValid Summary | End of Epoch 1 | Time 11.71s | Valid Loss 5.88281\u001b[0m\n",
            "[\u001b[36m2022-05-06 17:59:27,757\u001b[0m][\u001b[34msvoice.solver\u001b[0m][\u001b[32mINFO\u001b[0m] - Learning rate adjusted: 0.00050\u001b[0m\n",
            "[\u001b[36m2022-05-06 17:59:27,757\u001b[0m][\u001b[34msvoice.solver\u001b[0m][\u001b[32mINFO\u001b[0m] - \u001b[1mNew best valid loss 5.8828\u001b[0m\n",
            "[\u001b[36m2022-05-06 17:59:27,784\u001b[0m][\u001b[34msvoice.solver\u001b[0m][\u001b[32mINFO\u001b[0m] - ----------------------------------------------------------------------\u001b[0m\n",
            "[\u001b[36m2022-05-06 17:59:27,784\u001b[0m][\u001b[34msvoice.solver\u001b[0m][\u001b[32mINFO\u001b[0m] - \u001b[1mOverall Summary | Epoch 1 | Train 11.96888 | Valid 5.88281 | Best 5.88281\u001b[0m\n",
            "[\u001b[36m2022-05-06 17:59:28,064\u001b[0m][\u001b[34msvoice.solver\u001b[0m][\u001b[32mINFO\u001b[0m] - ----------------------------------------------------------------------\u001b[0m\n",
            "[\u001b[36m2022-05-06 17:59:28,064\u001b[0m][\u001b[34msvoice.solver\u001b[0m][\u001b[32mINFO\u001b[0m] - Training...\u001b[0m\n",
            "[\u001b[36m2022-05-06 17:59:29,486\u001b[0m][\u001b[34msvoice.solver\u001b[0m][\u001b[32mINFO\u001b[0m] - Train | Epoch 2 | 1/8 | 1.7 it/sec | Loss 4.82674\u001b[0m\n",
            "[\u001b[36m2022-05-06 17:59:30,651\u001b[0m][\u001b[34msvoice.solver\u001b[0m][\u001b[32mINFO\u001b[0m] - Train | Epoch 2 | 2/8 | 1.3 it/sec | Loss 4.15280\u001b[0m\n",
            "[\u001b[36m2022-05-06 17:59:31,802\u001b[0m][\u001b[34msvoice.solver\u001b[0m][\u001b[32mINFO\u001b[0m] - Train | Epoch 2 | 3/8 | 1.1 it/sec | Loss 4.34254\u001b[0m\n",
            "[\u001b[36m2022-05-06 17:59:32,957\u001b[0m][\u001b[34msvoice.solver\u001b[0m][\u001b[32mINFO\u001b[0m] - Train | Epoch 2 | 4/8 | 1.1 it/sec | Loss 4.18929\u001b[0m\n",
            "[\u001b[36m2022-05-06 17:59:34,101\u001b[0m][\u001b[34msvoice.solver\u001b[0m][\u001b[32mINFO\u001b[0m] - Train | Epoch 2 | 5/8 | 1.0 it/sec | Loss 4.28405\u001b[0m\n",
            "[\u001b[36m2022-05-06 17:59:35,252\u001b[0m][\u001b[34msvoice.solver\u001b[0m][\u001b[32mINFO\u001b[0m] - Train | Epoch 2 | 6/8 | 1.0 it/sec | Loss 4.06820\u001b[0m\n",
            "[\u001b[36m2022-05-06 17:59:36,403\u001b[0m][\u001b[34msvoice.solver\u001b[0m][\u001b[32mINFO\u001b[0m] - Train | Epoch 2 | 7/8 | 1.0 it/sec | Loss 3.93996\u001b[0m\n",
            "[\u001b[36m2022-05-06 17:59:37,081\u001b[0m][\u001b[34msvoice.solver\u001b[0m][\u001b[32mINFO\u001b[0m] - Train | Epoch 2 | 8/8 | 1.0 it/sec | Loss 3.60752\u001b[0m\n",
            "[\u001b[36m2022-05-06 17:59:37,083\u001b[0m][\u001b[34msvoice.solver\u001b[0m][\u001b[32mINFO\u001b[0m] - \u001b[1mTrain Summary | End of Epoch 2 | Time 9.02s | Train Loss 3.60752\u001b[0m\n",
            "[\u001b[36m2022-05-06 17:59:37,083\u001b[0m][\u001b[34msvoice.solver\u001b[0m][\u001b[32mINFO\u001b[0m] - ----------------------------------------------------------------------\u001b[0m\n",
            "[\u001b[36m2022-05-06 17:59:37,084\u001b[0m][\u001b[34msvoice.solver\u001b[0m][\u001b[32mINFO\u001b[0m] - Cross validation...\u001b[0m\n",
            "[\u001b[36m2022-05-06 17:59:37,636\u001b[0m][\u001b[34msvoice.solver\u001b[0m][\u001b[32mINFO\u001b[0m] - Valid | Epoch 2 | 1/8 | 4.5 it/sec | Loss 6.25457\u001b[0m\n",
            "[\u001b[36m2022-05-06 17:59:37,958\u001b[0m][\u001b[34msvoice.solver\u001b[0m][\u001b[32mINFO\u001b[0m] - Valid | Epoch 2 | 2/8 | 3.9 it/sec | Loss 3.70334\u001b[0m\n",
            "[\u001b[36m2022-05-06 17:59:38,267\u001b[0m][\u001b[34msvoice.solver\u001b[0m][\u001b[32mINFO\u001b[0m] - Valid | Epoch 2 | 3/8 | 3.7 it/sec | Loss 3.69710\u001b[0m\n",
            "[\u001b[36m2022-05-06 17:59:38,562\u001b[0m][\u001b[34msvoice.solver\u001b[0m][\u001b[32mINFO\u001b[0m] - Valid | Epoch 2 | 4/8 | 3.7 it/sec | Loss 3.48952\u001b[0m\n",
            "[\u001b[36m2022-05-06 17:59:38,796\u001b[0m][\u001b[34msvoice.solver\u001b[0m][\u001b[32mINFO\u001b[0m] - Valid | Epoch 2 | 5/8 | 3.7 it/sec | Loss 3.49560\u001b[0m\n",
            "[\u001b[36m2022-05-06 17:59:39,019\u001b[0m][\u001b[34msvoice.solver\u001b[0m][\u001b[32mINFO\u001b[0m] - Valid | Epoch 2 | 6/8 | 3.8 it/sec | Loss 3.34376\u001b[0m\n",
            "[\u001b[36m2022-05-06 17:59:39,205\u001b[0m][\u001b[34msvoice.solver\u001b[0m][\u001b[32mINFO\u001b[0m] - Valid | Epoch 2 | 7/8 | 4.0 it/sec | Loss 3.26492\u001b[0m\n",
            "[\u001b[36m2022-05-06 17:59:39,472\u001b[0m][\u001b[34msvoice.solver\u001b[0m][\u001b[32mINFO\u001b[0m] - Valid | Epoch 2 | 8/8 | 3.9 it/sec | Loss 3.10417\u001b[0m\n",
            "[\u001b[36m2022-05-06 17:59:39,474\u001b[0m][\u001b[34msvoice.solver\u001b[0m][\u001b[32mINFO\u001b[0m] - \u001b[1mValid Summary | End of Epoch 2 | Time 11.41s | Valid Loss 3.10417\u001b[0m\n",
            "[\u001b[36m2022-05-06 17:59:39,475\u001b[0m][\u001b[34msvoice.solver\u001b[0m][\u001b[32mINFO\u001b[0m] - Learning rate adjusted: 0.00049\u001b[0m\n",
            "[\u001b[36m2022-05-06 17:59:39,475\u001b[0m][\u001b[34msvoice.solver\u001b[0m][\u001b[32mINFO\u001b[0m] - \u001b[1mNew best valid loss 3.1042\u001b[0m\n",
            "[\u001b[36m2022-05-06 17:59:39,505\u001b[0m][\u001b[34msvoice.solver\u001b[0m][\u001b[32mINFO\u001b[0m] - ----------------------------------------------------------------------\u001b[0m\n",
            "[\u001b[36m2022-05-06 17:59:39,505\u001b[0m][\u001b[34msvoice.solver\u001b[0m][\u001b[32mINFO\u001b[0m] - \u001b[1mOverall Summary | Epoch 2 | Train 3.60752 | Valid 3.10417 | Best 3.10417\u001b[0m\n",
            "[\u001b[36m2022-05-06 17:59:39,827\u001b[0m][\u001b[34msvoice.solver\u001b[0m][\u001b[32mINFO\u001b[0m] - ----------------------------------------------------------------------\u001b[0m\n",
            "[\u001b[36m2022-05-06 17:59:39,828\u001b[0m][\u001b[34msvoice.solver\u001b[0m][\u001b[32mINFO\u001b[0m] - Training...\u001b[0m\n",
            "[\u001b[36m2022-05-06 17:59:41,167\u001b[0m][\u001b[34msvoice.solver\u001b[0m][\u001b[32mINFO\u001b[0m] - Train | Epoch 3 | 1/8 | 1.7 it/sec | Loss 2.67488\u001b[0m\n",
            "[\u001b[36m2022-05-06 17:59:42,321\u001b[0m][\u001b[34msvoice.solver\u001b[0m][\u001b[32mINFO\u001b[0m] - Train | Epoch 3 | 2/8 | 1.3 it/sec | Loss 2.44162\u001b[0m\n",
            "[\u001b[36m2022-05-06 17:59:43,483\u001b[0m][\u001b[34msvoice.solver\u001b[0m][\u001b[32mINFO\u001b[0m] - Train | Epoch 3 | 3/8 | 1.1 it/sec | Loss 2.73456\u001b[0m\n",
            "[\u001b[36m2022-05-06 17:59:44,634\u001b[0m][\u001b[34msvoice.solver\u001b[0m][\u001b[32mINFO\u001b[0m] - Train | Epoch 3 | 4/8 | 1.1 it/sec | Loss 2.70537\u001b[0m\n",
            "[\u001b[36m2022-05-06 17:59:45,789\u001b[0m][\u001b[34msvoice.solver\u001b[0m][\u001b[32mINFO\u001b[0m] - Train | Epoch 3 | 5/8 | 1.0 it/sec | Loss 2.49002\u001b[0m\n",
            "[\u001b[36m2022-05-06 17:59:46,985\u001b[0m][\u001b[34msvoice.solver\u001b[0m][\u001b[32mINFO\u001b[0m] - Train | Epoch 3 | 6/8 | 1.0 it/sec | Loss 2.38359\u001b[0m\n",
            "[\u001b[36m2022-05-06 17:59:48,130\u001b[0m][\u001b[34msvoice.solver\u001b[0m][\u001b[32mINFO\u001b[0m] - Train | Epoch 3 | 7/8 | 1.0 it/sec | Loss 2.33312\u001b[0m\n",
            "[\u001b[36m2022-05-06 17:59:48,804\u001b[0m][\u001b[34msvoice.solver\u001b[0m][\u001b[32mINFO\u001b[0m] - Train | Epoch 3 | 8/8 | 1.0 it/sec | Loss 2.25433\u001b[0m\n",
            "[\u001b[36m2022-05-06 17:59:48,805\u001b[0m][\u001b[34msvoice.solver\u001b[0m][\u001b[32mINFO\u001b[0m] - \u001b[1mTrain Summary | End of Epoch 3 | Time 8.98s | Train Loss 2.25433\u001b[0m\n",
            "[\u001b[36m2022-05-06 17:59:48,806\u001b[0m][\u001b[34msvoice.solver\u001b[0m][\u001b[32mINFO\u001b[0m] - ----------------------------------------------------------------------\u001b[0m\n",
            "[\u001b[36m2022-05-06 17:59:48,806\u001b[0m][\u001b[34msvoice.solver\u001b[0m][\u001b[32mINFO\u001b[0m] - Cross validation...\u001b[0m\n",
            "[\u001b[36m2022-05-06 17:59:49,362\u001b[0m][\u001b[34msvoice.solver\u001b[0m][\u001b[32mINFO\u001b[0m] - Valid | Epoch 3 | 1/8 | 4.5 it/sec | Loss 5.05948\u001b[0m\n",
            "[\u001b[36m2022-05-06 17:59:49,677\u001b[0m][\u001b[34msvoice.solver\u001b[0m][\u001b[32mINFO\u001b[0m] - Valid | Epoch 3 | 2/8 | 3.9 it/sec | Loss 2.72125\u001b[0m\n",
            "[\u001b[36m2022-05-06 17:59:49,992\u001b[0m][\u001b[34msvoice.solver\u001b[0m][\u001b[32mINFO\u001b[0m] - Valid | Epoch 3 | 3/8 | 3.7 it/sec | Loss 2.91747\u001b[0m\n",
            "[\u001b[36m2022-05-06 17:59:50,280\u001b[0m][\u001b[34msvoice.solver\u001b[0m][\u001b[32mINFO\u001b[0m] - Valid | Epoch 3 | 4/8 | 3.7 it/sec | Loss 2.66853\u001b[0m\n",
            "[\u001b[36m2022-05-06 17:59:50,517\u001b[0m][\u001b[34msvoice.solver\u001b[0m][\u001b[32mINFO\u001b[0m] - Valid | Epoch 3 | 5/8 | 3.7 it/sec | Loss 2.71827\u001b[0m\n",
            "[\u001b[36m2022-05-06 17:59:50,738\u001b[0m][\u001b[34msvoice.solver\u001b[0m][\u001b[32mINFO\u001b[0m] - Valid | Epoch 3 | 6/8 | 3.8 it/sec | Loss 2.66426\u001b[0m\n",
            "[\u001b[36m2022-05-06 17:59:50,916\u001b[0m][\u001b[34msvoice.solver\u001b[0m][\u001b[32mINFO\u001b[0m] - Valid | Epoch 3 | 7/8 | 4.0 it/sec | Loss 2.60807\u001b[0m\n",
            "[\u001b[36m2022-05-06 17:59:51,180\u001b[0m][\u001b[34msvoice.solver\u001b[0m][\u001b[32mINFO\u001b[0m] - Valid | Epoch 3 | 8/8 | 4.0 it/sec | Loss 2.46103\u001b[0m\n",
            "[\u001b[36m2022-05-06 17:59:51,181\u001b[0m][\u001b[34msvoice.solver\u001b[0m][\u001b[32mINFO\u001b[0m] - \u001b[1mValid Summary | End of Epoch 3 | Time 11.35s | Valid Loss 2.46103\u001b[0m\n",
            "[\u001b[36m2022-05-06 17:59:51,182\u001b[0m][\u001b[34msvoice.solver\u001b[0m][\u001b[32mINFO\u001b[0m] - Learning rate adjusted: 0.00049\u001b[0m\n",
            "[\u001b[36m2022-05-06 17:59:51,182\u001b[0m][\u001b[34msvoice.solver\u001b[0m][\u001b[32mINFO\u001b[0m] - \u001b[1mNew best valid loss 2.4610\u001b[0m\n",
            "[\u001b[36m2022-05-06 17:59:51,208\u001b[0m][\u001b[34msvoice.solver\u001b[0m][\u001b[32mINFO\u001b[0m] - ----------------------------------------------------------------------\u001b[0m\n",
            "[\u001b[36m2022-05-06 17:59:51,208\u001b[0m][\u001b[34msvoice.solver\u001b[0m][\u001b[32mINFO\u001b[0m] - \u001b[1mOverall Summary | Epoch 3 | Train 2.25433 | Valid 2.46103 | Best 2.46103\u001b[0m\n",
            "[\u001b[36m2022-05-06 17:59:51,535\u001b[0m][\u001b[34msvoice.solver\u001b[0m][\u001b[32mINFO\u001b[0m] - ----------------------------------------------------------------------\u001b[0m\n",
            "[\u001b[36m2022-05-06 17:59:51,535\u001b[0m][\u001b[34msvoice.solver\u001b[0m][\u001b[32mINFO\u001b[0m] - Training...\u001b[0m\n",
            "[\u001b[36m2022-05-06 17:59:52,855\u001b[0m][\u001b[34msvoice.solver\u001b[0m][\u001b[32mINFO\u001b[0m] - Train | Epoch 4 | 1/8 | 1.7 it/sec | Loss 1.40136\u001b[0m\n",
            "[\u001b[36m2022-05-06 17:59:54,015\u001b[0m][\u001b[34msvoice.solver\u001b[0m][\u001b[32mINFO\u001b[0m] - Train | Epoch 4 | 2/8 | 1.3 it/sec | Loss 1.71219\u001b[0m\n",
            "[\u001b[36m2022-05-06 17:59:55,163\u001b[0m][\u001b[34msvoice.solver\u001b[0m][\u001b[32mINFO\u001b[0m] - Train | Epoch 4 | 3/8 | 1.1 it/sec | Loss 1.96887\u001b[0m\n",
            "[\u001b[36m2022-05-06 17:59:56,313\u001b[0m][\u001b[34msvoice.solver\u001b[0m][\u001b[32mINFO\u001b[0m] - Train | Epoch 4 | 4/8 | 1.1 it/sec | Loss 1.72433\u001b[0m\n",
            "[\u001b[36m2022-05-06 17:59:57,467\u001b[0m][\u001b[34msvoice.solver\u001b[0m][\u001b[32mINFO\u001b[0m] - Train | Epoch 4 | 5/8 | 1.0 it/sec | Loss 1.83341\u001b[0m\n",
            "[\u001b[36m2022-05-06 17:59:58,609\u001b[0m][\u001b[34msvoice.solver\u001b[0m][\u001b[32mINFO\u001b[0m] - Train | Epoch 4 | 6/8 | 1.0 it/sec | Loss 1.81814\u001b[0m\n",
            "[\u001b[36m2022-05-06 17:59:59,759\u001b[0m][\u001b[34msvoice.solver\u001b[0m][\u001b[32mINFO\u001b[0m] - Train | Epoch 4 | 7/8 | 1.0 it/sec | Loss 1.75580\u001b[0m\n",
            "[\u001b[36m2022-05-06 18:00:00,429\u001b[0m][\u001b[34msvoice.solver\u001b[0m][\u001b[32mINFO\u001b[0m] - Train | Epoch 4 | 8/8 | 1.0 it/sec | Loss 1.53374\u001b[0m\n",
            "[\u001b[36m2022-05-06 18:00:00,430\u001b[0m][\u001b[34msvoice.solver\u001b[0m][\u001b[32mINFO\u001b[0m] - \u001b[1mTrain Summary | End of Epoch 4 | Time 8.90s | Train Loss 1.53374\u001b[0m\n",
            "[\u001b[36m2022-05-06 18:00:00,430\u001b[0m][\u001b[34msvoice.solver\u001b[0m][\u001b[32mINFO\u001b[0m] - ----------------------------------------------------------------------\u001b[0m\n",
            "[\u001b[36m2022-05-06 18:00:00,430\u001b[0m][\u001b[34msvoice.solver\u001b[0m][\u001b[32mINFO\u001b[0m] - Cross validation...\u001b[0m\n",
            "[\u001b[36m2022-05-06 18:00:00,983\u001b[0m][\u001b[34msvoice.solver\u001b[0m][\u001b[32mINFO\u001b[0m] - Valid | Epoch 4 | 1/8 | 4.5 it/sec | Loss 4.04025\u001b[0m\n",
            "[\u001b[36m2022-05-06 18:00:01,308\u001b[0m][\u001b[34msvoice.solver\u001b[0m][\u001b[32mINFO\u001b[0m] - Valid | Epoch 4 | 2/8 | 3.9 it/sec | Loss 1.96064\u001b[0m\n",
            "[\u001b[36m2022-05-06 18:00:01,619\u001b[0m][\u001b[34msvoice.solver\u001b[0m][\u001b[32mINFO\u001b[0m] - Valid | Epoch 4 | 3/8 | 3.7 it/sec | Loss 2.24790\u001b[0m\n",
            "[\u001b[36m2022-05-06 18:00:01,910\u001b[0m][\u001b[34msvoice.solver\u001b[0m][\u001b[32mINFO\u001b[0m] - Valid | Epoch 4 | 4/8 | 3.7 it/sec | Loss 2.01968\u001b[0m\n",
            "[\u001b[36m2022-05-06 18:00:02,146\u001b[0m][\u001b[34msvoice.solver\u001b[0m][\u001b[32mINFO\u001b[0m] - Valid | Epoch 4 | 5/8 | 3.7 it/sec | Loss 2.04496\u001b[0m\n",
            "[\u001b[36m2022-05-06 18:00:02,364\u001b[0m][\u001b[34msvoice.solver\u001b[0m][\u001b[32mINFO\u001b[0m] - Valid | Epoch 4 | 6/8 | 3.8 it/sec | Loss 2.08894\u001b[0m\n",
            "[\u001b[36m2022-05-06 18:00:02,551\u001b[0m][\u001b[34msvoice.solver\u001b[0m][\u001b[32mINFO\u001b[0m] - Valid | Epoch 4 | 7/8 | 4.0 it/sec | Loss 2.06994\u001b[0m\n",
            "[\u001b[36m2022-05-06 18:00:02,818\u001b[0m][\u001b[34msvoice.solver\u001b[0m][\u001b[32mINFO\u001b[0m] - Valid | Epoch 4 | 8/8 | 4.0 it/sec | Loss 1.93233\u001b[0m\n",
            "[\u001b[36m2022-05-06 18:00:02,819\u001b[0m][\u001b[34msvoice.solver\u001b[0m][\u001b[32mINFO\u001b[0m] - \u001b[1mValid Summary | End of Epoch 4 | Time 11.28s | Valid Loss 1.93233\u001b[0m\n",
            "[\u001b[36m2022-05-06 18:00:02,819\u001b[0m][\u001b[34msvoice.solver\u001b[0m][\u001b[32mINFO\u001b[0m] - Learning rate adjusted: 0.00048\u001b[0m\n",
            "[\u001b[36m2022-05-06 18:00:02,820\u001b[0m][\u001b[34msvoice.solver\u001b[0m][\u001b[32mINFO\u001b[0m] - \u001b[1mNew best valid loss 1.9323\u001b[0m\n",
            "[\u001b[36m2022-05-06 18:00:02,849\u001b[0m][\u001b[34msvoice.solver\u001b[0m][\u001b[32mINFO\u001b[0m] - ----------------------------------------------------------------------\u001b[0m\n",
            "[\u001b[36m2022-05-06 18:00:02,850\u001b[0m][\u001b[34msvoice.solver\u001b[0m][\u001b[32mINFO\u001b[0m] - \u001b[1mOverall Summary | Epoch 4 | Train 1.53374 | Valid 1.93233 | Best 1.93233\u001b[0m\n",
            "[\u001b[36m2022-05-06 18:00:03,167\u001b[0m][\u001b[34msvoice.solver\u001b[0m][\u001b[32mINFO\u001b[0m] - ----------------------------------------------------------------------\u001b[0m\n",
            "[\u001b[36m2022-05-06 18:00:03,168\u001b[0m][\u001b[34msvoice.solver\u001b[0m][\u001b[32mINFO\u001b[0m] - Training...\u001b[0m\n",
            "[\u001b[36m2022-05-06 18:00:04,504\u001b[0m][\u001b[34msvoice.solver\u001b[0m][\u001b[32mINFO\u001b[0m] - Train | Epoch 5 | 1/8 | 1.7 it/sec | Loss 1.93699\u001b[0m\n",
            "[\u001b[36m2022-05-06 18:00:05,662\u001b[0m][\u001b[34msvoice.solver\u001b[0m][\u001b[32mINFO\u001b[0m] - Train | Epoch 5 | 2/8 | 1.3 it/sec | Loss 1.60626\u001b[0m\n",
            "[\u001b[36m2022-05-06 18:00:06,808\u001b[0m][\u001b[34msvoice.solver\u001b[0m][\u001b[32mINFO\u001b[0m] - Train | Epoch 5 | 3/8 | 1.1 it/sec | Loss 1.64245\u001b[0m\n",
            "[\u001b[36m2022-05-06 18:00:07,956\u001b[0m][\u001b[34msvoice.solver\u001b[0m][\u001b[32mINFO\u001b[0m] - Train | Epoch 5 | 4/8 | 1.1 it/sec | Loss 1.57095\u001b[0m\n",
            "[\u001b[36m2022-05-06 18:00:09,098\u001b[0m][\u001b[34msvoice.solver\u001b[0m][\u001b[32mINFO\u001b[0m] - Train | Epoch 5 | 5/8 | 1.0 it/sec | Loss 1.63751\u001b[0m\n",
            "[\u001b[36m2022-05-06 18:00:10,238\u001b[0m][\u001b[34msvoice.solver\u001b[0m][\u001b[32mINFO\u001b[0m] - Train | Epoch 5 | 6/8 | 1.0 it/sec | Loss 1.49962\u001b[0m\n",
            "[\u001b[36m2022-05-06 18:00:11,394\u001b[0m][\u001b[34msvoice.solver\u001b[0m][\u001b[32mINFO\u001b[0m] - Train | Epoch 5 | 7/8 | 1.0 it/sec | Loss 1.37048\u001b[0m\n",
            "[\u001b[36m2022-05-06 18:00:12,058\u001b[0m][\u001b[34msvoice.solver\u001b[0m][\u001b[32mINFO\u001b[0m] - Train | Epoch 5 | 8/8 | 1.0 it/sec | Loss 1.31146\u001b[0m\n",
            "[\u001b[36m2022-05-06 18:00:12,060\u001b[0m][\u001b[34msvoice.solver\u001b[0m][\u001b[32mINFO\u001b[0m] - \u001b[1mTrain Summary | End of Epoch 5 | Time 8.89s | Train Loss 1.31146\u001b[0m\n",
            "[\u001b[36m2022-05-06 18:00:12,061\u001b[0m][\u001b[34msvoice.solver\u001b[0m][\u001b[32mINFO\u001b[0m] - ----------------------------------------------------------------------\u001b[0m\n",
            "[\u001b[36m2022-05-06 18:00:12,061\u001b[0m][\u001b[34msvoice.solver\u001b[0m][\u001b[32mINFO\u001b[0m] - Cross validation...\u001b[0m\n",
            "[\u001b[36m2022-05-06 18:00:12,616\u001b[0m][\u001b[34msvoice.solver\u001b[0m][\u001b[32mINFO\u001b[0m] - Valid | Epoch 5 | 1/8 | 4.5 it/sec | Loss 3.41219\u001b[0m\n",
            "[\u001b[36m2022-05-06 18:00:12,932\u001b[0m][\u001b[34msvoice.solver\u001b[0m][\u001b[32mINFO\u001b[0m] - Valid | Epoch 5 | 2/8 | 3.9 it/sec | Loss 1.30504\u001b[0m\n",
            "[\u001b[36m2022-05-06 18:00:13,242\u001b[0m][\u001b[34msvoice.solver\u001b[0m][\u001b[32mINFO\u001b[0m] - Valid | Epoch 5 | 3/8 | 3.7 it/sec | Loss 1.65429\u001b[0m\n",
            "[\u001b[36m2022-05-06 18:00:13,532\u001b[0m][\u001b[34msvoice.solver\u001b[0m][\u001b[32mINFO\u001b[0m] - Valid | Epoch 5 | 4/8 | 3.7 it/sec | Loss 1.43848\u001b[0m\n",
            "[\u001b[36m2022-05-06 18:00:13,767\u001b[0m][\u001b[34msvoice.solver\u001b[0m][\u001b[32mINFO\u001b[0m] - Valid | Epoch 5 | 5/8 | 3.8 it/sec | Loss 1.45394\u001b[0m\n",
            "[\u001b[36m2022-05-06 18:00:13,987\u001b[0m][\u001b[34msvoice.solver\u001b[0m][\u001b[32mINFO\u001b[0m] - Valid | Epoch 5 | 6/8 | 3.8 it/sec | Loss 1.61782\u001b[0m\n",
            "[\u001b[36m2022-05-06 18:00:14,172\u001b[0m][\u001b[34msvoice.solver\u001b[0m][\u001b[32mINFO\u001b[0m] - Valid | Epoch 5 | 7/8 | 4.0 it/sec | Loss 1.62182\u001b[0m\n",
            "[\u001b[36m2022-05-06 18:00:14,431\u001b[0m][\u001b[34msvoice.solver\u001b[0m][\u001b[32mINFO\u001b[0m] - Valid | Epoch 5 | 8/8 | 4.0 it/sec | Loss 1.49970\u001b[0m\n",
            "[\u001b[36m2022-05-06 18:00:14,433\u001b[0m][\u001b[34msvoice.solver\u001b[0m][\u001b[32mINFO\u001b[0m] - \u001b[1mValid Summary | End of Epoch 5 | Time 11.27s | Valid Loss 1.49970\u001b[0m\n",
            "[\u001b[36m2022-05-06 18:00:14,433\u001b[0m][\u001b[34msvoice.solver\u001b[0m][\u001b[32mINFO\u001b[0m] - Learning rate adjusted: 0.00048\u001b[0m\n",
            "[\u001b[36m2022-05-06 18:00:14,434\u001b[0m][\u001b[34msvoice.solver\u001b[0m][\u001b[32mINFO\u001b[0m] - \u001b[1mNew best valid loss 1.4997\u001b[0m\n",
            "[\u001b[36m2022-05-06 18:00:14,460\u001b[0m][\u001b[34msvoice.solver\u001b[0m][\u001b[32mINFO\u001b[0m] - ----------------------------------------------------------------------\u001b[0m\n",
            "[\u001b[36m2022-05-06 18:00:14,460\u001b[0m][\u001b[34msvoice.solver\u001b[0m][\u001b[32mINFO\u001b[0m] - \u001b[1mOverall Summary | Epoch 5 | Train 1.31146 | Valid 1.49970 | Best 1.49970\u001b[0m\n",
            "[\u001b[36m2022-05-06 18:00:14,790\u001b[0m][\u001b[34msvoice.solver\u001b[0m][\u001b[32mINFO\u001b[0m] - ----------------------------------------------------------------------\u001b[0m\n",
            "[\u001b[36m2022-05-06 18:00:14,791\u001b[0m][\u001b[34msvoice.solver\u001b[0m][\u001b[32mINFO\u001b[0m] - Training...\u001b[0m\n",
            "[\u001b[36m2022-05-06 18:00:16,125\u001b[0m][\u001b[34msvoice.solver\u001b[0m][\u001b[32mINFO\u001b[0m] - Train | Epoch 6 | 1/8 | 1.7 it/sec | Loss 1.59580\u001b[0m\n",
            "[\u001b[36m2022-05-06 18:00:17,287\u001b[0m][\u001b[34msvoice.solver\u001b[0m][\u001b[32mINFO\u001b[0m] - Train | Epoch 6 | 2/8 | 1.3 it/sec | Loss 1.20032\u001b[0m\n",
            "[\u001b[36m2022-05-06 18:00:18,434\u001b[0m][\u001b[34msvoice.solver\u001b[0m][\u001b[32mINFO\u001b[0m] - Train | Epoch 6 | 3/8 | 1.1 it/sec | Loss 1.03143\u001b[0m\n",
            "[\u001b[36m2022-05-06 18:00:19,581\u001b[0m][\u001b[34msvoice.solver\u001b[0m][\u001b[32mINFO\u001b[0m] - Train | Epoch 6 | 4/8 | 1.1 it/sec | Loss 1.05754\u001b[0m\n",
            "[\u001b[36m2022-05-06 18:00:20,727\u001b[0m][\u001b[34msvoice.solver\u001b[0m][\u001b[32mINFO\u001b[0m] - Train | Epoch 6 | 5/8 | 1.0 it/sec | Loss 1.06099\u001b[0m\n",
            "[\u001b[36m2022-05-06 18:00:21,884\u001b[0m][\u001b[34msvoice.solver\u001b[0m][\u001b[32mINFO\u001b[0m] - Train | Epoch 6 | 6/8 | 1.0 it/sec | Loss 1.04212\u001b[0m\n",
            "[\u001b[36m2022-05-06 18:00:23,045\u001b[0m][\u001b[34msvoice.solver\u001b[0m][\u001b[32mINFO\u001b[0m] - Train | Epoch 6 | 7/8 | 1.0 it/sec | Loss 1.12244\u001b[0m\n",
            "[\u001b[36m2022-05-06 18:00:23,713\u001b[0m][\u001b[34msvoice.solver\u001b[0m][\u001b[32mINFO\u001b[0m] - Train | Epoch 6 | 8/8 | 1.0 it/sec | Loss 1.09275\u001b[0m\n",
            "[\u001b[36m2022-05-06 18:00:23,715\u001b[0m][\u001b[34msvoice.solver\u001b[0m][\u001b[32mINFO\u001b[0m] - \u001b[1mTrain Summary | End of Epoch 6 | Time 8.92s | Train Loss 1.09275\u001b[0m\n",
            "[\u001b[36m2022-05-06 18:00:23,715\u001b[0m][\u001b[34msvoice.solver\u001b[0m][\u001b[32mINFO\u001b[0m] - ----------------------------------------------------------------------\u001b[0m\n",
            "[\u001b[36m2022-05-06 18:00:23,715\u001b[0m][\u001b[34msvoice.solver\u001b[0m][\u001b[32mINFO\u001b[0m] - Cross validation...\u001b[0m\n",
            "[\u001b[36m2022-05-06 18:00:24,280\u001b[0m][\u001b[34msvoice.solver\u001b[0m][\u001b[32mINFO\u001b[0m] - Valid | Epoch 6 | 1/8 | 4.4 it/sec | Loss 2.68622\u001b[0m\n",
            "[\u001b[36m2022-05-06 18:00:24,597\u001b[0m][\u001b[34msvoice.solver\u001b[0m][\u001b[32mINFO\u001b[0m] - Valid | Epoch 6 | 2/8 | 3.9 it/sec | Loss 0.72463\u001b[0m\n",
            "[\u001b[36m2022-05-06 18:00:24,905\u001b[0m][\u001b[34msvoice.solver\u001b[0m][\u001b[32mINFO\u001b[0m] - Valid | Epoch 6 | 3/8 | 3.7 it/sec | Loss 0.95920\u001b[0m\n",
            "[\u001b[36m2022-05-06 18:00:25,193\u001b[0m][\u001b[34msvoice.solver\u001b[0m][\u001b[32mINFO\u001b[0m] - Valid | Epoch 6 | 4/8 | 3.7 it/sec | Loss 0.90100\u001b[0m\n",
            "[\u001b[36m2022-05-06 18:00:25,431\u001b[0m][\u001b[34msvoice.solver\u001b[0m][\u001b[32mINFO\u001b[0m] - Valid | Epoch 6 | 5/8 | 3.7 it/sec | Loss 0.94748\u001b[0m\n",
            "[\u001b[36m2022-05-06 18:00:25,651\u001b[0m][\u001b[34msvoice.solver\u001b[0m][\u001b[32mINFO\u001b[0m] - Valid | Epoch 6 | 6/8 | 3.8 it/sec | Loss 1.19855\u001b[0m\n",
            "[\u001b[36m2022-05-06 18:00:25,838\u001b[0m][\u001b[34msvoice.solver\u001b[0m][\u001b[32mINFO\u001b[0m] - Valid | Epoch 6 | 7/8 | 4.0 it/sec | Loss 1.31101\u001b[0m\n",
            "[\u001b[36m2022-05-06 18:00:26,096\u001b[0m][\u001b[34msvoice.solver\u001b[0m][\u001b[32mINFO\u001b[0m] - Valid | Epoch 6 | 8/8 | 4.0 it/sec | Loss 1.22108\u001b[0m\n",
            "[\u001b[36m2022-05-06 18:00:26,097\u001b[0m][\u001b[34msvoice.solver\u001b[0m][\u001b[32mINFO\u001b[0m] - \u001b[1mValid Summary | End of Epoch 6 | Time 11.31s | Valid Loss 1.22108\u001b[0m\n",
            "[\u001b[36m2022-05-06 18:00:26,098\u001b[0m][\u001b[34msvoice.solver\u001b[0m][\u001b[32mINFO\u001b[0m] - Learning rate adjusted: 0.00047\u001b[0m\n",
            "[\u001b[36m2022-05-06 18:00:26,098\u001b[0m][\u001b[34msvoice.solver\u001b[0m][\u001b[32mINFO\u001b[0m] - \u001b[1mNew best valid loss 1.2211\u001b[0m\n",
            "[\u001b[36m2022-05-06 18:00:26,124\u001b[0m][\u001b[34msvoice.solver\u001b[0m][\u001b[32mINFO\u001b[0m] - ----------------------------------------------------------------------\u001b[0m\n",
            "[\u001b[36m2022-05-06 18:00:26,125\u001b[0m][\u001b[34msvoice.solver\u001b[0m][\u001b[32mINFO\u001b[0m] - \u001b[1mOverall Summary | Epoch 6 | Train 1.09275 | Valid 1.22108 | Best 1.22108\u001b[0m\n",
            "[\u001b[36m2022-05-06 18:00:26,455\u001b[0m][\u001b[34msvoice.solver\u001b[0m][\u001b[32mINFO\u001b[0m] - ----------------------------------------------------------------------\u001b[0m\n",
            "[\u001b[36m2022-05-06 18:00:26,456\u001b[0m][\u001b[34msvoice.solver\u001b[0m][\u001b[32mINFO\u001b[0m] - Training...\u001b[0m\n",
            "[\u001b[36m2022-05-06 18:00:27,779\u001b[0m][\u001b[34msvoice.solver\u001b[0m][\u001b[32mINFO\u001b[0m] - Train | Epoch 7 | 1/8 | 1.7 it/sec | Loss 0.91694\u001b[0m\n",
            "[\u001b[36m2022-05-06 18:00:28,945\u001b[0m][\u001b[34msvoice.solver\u001b[0m][\u001b[32mINFO\u001b[0m] - Train | Epoch 7 | 2/8 | 1.3 it/sec | Loss 0.95663\u001b[0m\n",
            "[\u001b[36m2022-05-06 18:00:30,088\u001b[0m][\u001b[34msvoice.solver\u001b[0m][\u001b[32mINFO\u001b[0m] - Train | Epoch 7 | 3/8 | 1.1 it/sec | Loss 0.84024\u001b[0m\n",
            "[\u001b[36m2022-05-06 18:00:31,229\u001b[0m][\u001b[34msvoice.solver\u001b[0m][\u001b[32mINFO\u001b[0m] - Train | Epoch 7 | 4/8 | 1.1 it/sec | Loss 1.03070\u001b[0m\n",
            "Traceback (most recent call last):\n",
            "  File \"train.py\", line 126, in <module>\n",
            "    main()\n",
            "  File \"/usr/local/lib/python3.7/dist-packages/hydra/main.py\", line 37, in decorated_main\n",
            "    strict=strict,\n",
            "  File \"/usr/local/lib/python3.7/dist-packages/hydra/_internal/utils.py\", line 347, in _run_hydra\n",
            "    lambda: hydra.run(\n",
            "  File \"/usr/local/lib/python3.7/dist-packages/hydra/_internal/utils.py\", line 198, in run_and_report\n",
            "    return func()\n",
            "  File \"/usr/local/lib/python3.7/dist-packages/hydra/_internal/utils.py\", line 350, in <lambda>\n",
            "    overrides=args.overrides,\n",
            "  File \"/usr/local/lib/python3.7/dist-packages/hydra/_internal/hydra.py\", line 112, in run\n",
            "    configure_logging=with_log_configuration,\n",
            "  File \"/usr/local/lib/python3.7/dist-packages/hydra/core/utils.py\", line 125, in run_job\n",
            "    ret.return_value = task_function(task_cfg)\n",
            "  File \"train.py\", line 118, in main\n",
            "    _main(args)\n",
            "  File \"train.py\", line 112, in _main\n",
            "    run(args)\n",
            "  File \"train.py\", line 93, in run\n",
            "    solver.train()\n",
            "  File \"/content/svoice/svoice/solver.py\", line 122, in train\n",
            "    train_loss = self._run_one_epoch(epoch)\n",
            "  File \"/content/svoice/svoice/solver.py\", line 217, in _run_one_epoch\n",
            "    loss.backward()\n",
            "  File \"/usr/local/lib/python3.7/dist-packages/torch/tensor.py\", line 185, in backward\n",
            "    torch.autograd.backward(self, gradient, retain_graph, create_graph)\n",
            "  File \"/usr/local/lib/python3.7/dist-packages/torch/autograd/__init__.py\", line 127, in backward\n",
            "    allow_unreachable=True)  # allow_unreachable flag\n",
            "KeyboardInterrupt\n"
          ]
        }
      ]
    },
    {
      "cell_type": "code",
      "source": [
        "!python -m svoice.separate outputs/exp_/checkpoint.th ../content --mix_dir=New_data"
      ],
      "metadata": {
        "id": "BoCyEU31TbEt",
        "colab": {
          "base_uri": "https://localhost:8080/"
        },
        "outputId": "f522edbb-4973-435d-f6f1-7c1cdfb839ba"
      },
      "execution_count": 12,
      "outputs": [
        {
          "output_type": "stream",
          "name": "stdout",
          "text": [
            "\r  0% 0/3 [00:00<?, ?it/s]\r100% 3/3 [00:00<00:00, 69518.85it/s]\n",
            "\r  0%|                                                                                             | 0/1 [00:00<?, ?it/s]\r  0%|                                                                                             | 0/1 [00:00<?, ?it/s]\n",
            "Traceback (most recent call last):\n",
            "  File \"/usr/lib/python3.7/runpy.py\", line 193, in _run_module_as_main\n",
            "    \"__main__\", mod_spec)\n",
            "  File \"/usr/lib/python3.7/runpy.py\", line 85, in _run_code\n",
            "    exec(code, run_globals)\n",
            "  File \"/content/svoice/svoice/separate.py\", line 133, in <module>\n",
            "    separate(args, local_out_dir=args.out_dir)\n",
            "  File \"/content/svoice/svoice/separate.py\", line 117, in separate\n",
            "    for i, data in enumerate(tqdm.tqdm(eval_loader, ncols=120)):\n",
            "  File \"/usr/local/lib/python3.7/dist-packages/tqdm/std.py\", line 1171, in __iter__\n",
            "    for obj in iterable:\n",
            "  File \"/usr/local/lib/python3.7/dist-packages/torch/utils/data/dataloader.py\", line 363, in __next__\n",
            "    data = self._next_data()\n",
            "  File \"/usr/local/lib/python3.7/dist-packages/torch/utils/data/dataloader.py\", line 403, in _next_data\n",
            "    data = self._dataset_fetcher.fetch(index)  # may raise StopIteration\n",
            "  File \"/usr/local/lib/python3.7/dist-packages/torch/utils/data/_utils/fetch.py\", line 47, in fetch\n",
            "    return self.collate_fn(data)\n",
            "  File \"/content/svoice/svoice/data/data.py\", line 176, in _collate_fn_eval\n",
            "    for mix in mixtures], pad_value)\n",
            "  File \"/content/svoice/svoice/data/data.py\", line 202, in pad_list\n",
            "    max_len = max(x.size(0) for x in xs)\n",
            "ValueError: max() arg is an empty sequence\n"
          ]
        }
      ]
    },
    {
      "cell_type": "code",
      "source": [
        ""
      ],
      "metadata": {
        "id": "E_muy2O9YCoq"
      },
      "execution_count": 12,
      "outputs": []
    }
  ]
}